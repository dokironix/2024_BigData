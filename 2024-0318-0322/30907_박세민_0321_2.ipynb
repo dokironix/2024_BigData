{
 "cells": [
  {
   "cell_type": "markdown",
   "id": "8ca036f2",
   "metadata": {},
   "source": [
    "본 문제는 python 의 빠른 기초 학습을 위해 설계된 문제로서 python 코드 제출을 기준으로 설명되어 있습니다. \n",
    "------\n",
    "\n",
    "공백을 두고 문자(character) 2개를 입력받아 순서를 바꿔 출력해보자.\n",
    "\n",
    "참고\n",
    "...\n",
    "print(c2, c1)\n",
    "와 같은 방법으로 출력하면, c1과 c2에 저장된 값이 공백을 두고 순서가 바뀌어 한 줄로 출력된다.\n",
    "print( ) 안에서 쉼표(,)를 찍어 순서대로 나열하면, 그 순서대로 공백을 두고 출력된다."
   ]
  },
  {
   "cell_type": "code",
   "execution_count": 39,
   "id": "b532e0d1",
   "metadata": {
    "scrolled": true
   },
   "outputs": [
    {
     "name": "stdout",
     "output_type": "stream",
     "text": [
      "c1 c2\n"
     ]
    }
   ],
   "source": [
    "print(c2, c1)"
   ]
  },
  {
   "cell_type": "markdown",
   "id": "9154d83a",
   "metadata": {},
   "source": [
    "본 문제는 python 의 빠른 기초 학습을 위해 설계된 문제로서 python 코드 제출을 기준으로 설명되어 있습니다. \n",
    "------\n",
    "\n",
    "정수(integer), 실수, 문자(character), 문자열(string) 등 1개만 입력받아 한 줄로 3번 출력해보자.\n",
    "\n",
    "예시\n",
    "s = input()\n",
    "print(s, s, s)  #공백으로 구분해 한 줄로 출력한다.\n",
    "와 같은 방법으로 3번 출력할 수 있다.\n",
    "\n",
    "참고\n",
    "python 언어에서는 문자/정수/실수/문자열 등 특별한 구분이 없이도 원하는 변수에 저장시켜 출력 할 수 있다.\n",
    "하지만, 저장된 값을 이용해 계산하거나 서로 붙여 연결시키거나 잘라내는 작업을 한다면?\n",
    "반드시 저장되어있는 값의 종류(문자/정수/실수/문자열 등)를 구분해 주어야 한다."
   ]
  },
  {
   "cell_type": "code",
   "execution_count": 40,
   "id": "d16164f2",
   "metadata": {},
   "outputs": [
    {
     "name": "stdout",
     "output_type": "stream",
     "text": [
      "n\n",
      "n n n\n"
     ]
    }
   ],
   "source": [
    "n = input()\n",
    "print(n,n,n)"
   ]
  },
  {
   "cell_type": "markdown",
   "id": "f8bf2138",
   "metadata": {},
   "source": [
    "본 문제는 python 의 빠른 기초 학습을 위해 설계된 문제로서 python 코드 제출을 기준으로 설명되어 있습니다. \n",
    "------\n",
    "\n",
    "24시간 시:분 형식으로 시간이 입력될 때, 그대로 출력하는 연습을 해보자.\n",
    "\n",
    "예시\n",
    "a, b = input().split(':')\n",
    "print(a, b, sep=':')\n",
    "와 같은 방법으로 가능하다.\n",
    "\n",
    "참고\n",
    "input().split(':') 를 사용하면 콜론 ':' 기호를 기준으로 자른다.\n",
    "print(?, ?, sep=':') 를 사용하면 콜론 ':' 기호를 사이에 두고 값을 출력한다.\n",
    "sep 는 분류기호(seperator)를 의미한다."
   ]
  },
  {
   "cell_type": "code",
   "execution_count": 52,
   "id": "7467eb63",
   "metadata": {},
   "outputs": [
    {
     "name": "stdout",
     "output_type": "stream",
     "text": [
      "3:16\n"
     ]
    }
   ],
   "source": [
    "a = 3\n",
    "b = 16\n",
    "\n",
    "print(a, b, sep = ':')"
   ]
  },
  {
   "cell_type": "markdown",
   "id": "d1ba3427",
   "metadata": {},
   "source": [
    "본 문제는 python 의 빠른 기초 학습을 위해 설계된 문제로서 python 코드 제출을 기준으로 설명되어 있습니다. \n",
    "------\n",
    "\n",
    "\"연도.월.일\"을 입력받아 \"일-월-연도\" 순서로 바꿔 출력해보자.\n",
    "\n",
    "참고\n",
    "y, m, d = input().split('.')\n",
    "과 같이 변수들을 순서대로 나열하면 구분기호를 기준으로 잘라 순서대로 저장한다.\n"
   ]
  },
  {
   "cell_type": "code",
   "execution_count": 58,
   "id": "4fe13bef",
   "metadata": {},
   "outputs": [
    {
     "name": "stdout",
     "output_type": "stream",
     "text": [
      "4-3-2020\n"
     ]
    }
   ],
   "source": [
    "y = 2020\n",
    "m = 3\n",
    "d = 4\n",
    "\n",
    "\n",
    "print(d,m,y  ,sep='-')"
   ]
  },
  {
   "cell_type": "markdown",
   "id": "6389413b",
   "metadata": {},
   "source": [
    "본 문제는 python 의 빠른 기초 학습을 위해 설계된 문제로서 python 코드 제출을 기준으로 설명되어 있습니다. \n",
    "------\n",
    "\n",
    "주민번호는 다음과 같이 구성된다.\n",
    "XXXXXX-XXXXXXX\n",
    "\n",
    "왼쪽 6자리는 생년월일(YYMMDD)이고, 오른쪽 7자리는 성별,출생지역,확인코드로 구성되어있다.\n",
    "주민번호를 입력받아 형태를 바꿔 출력해보자."
   ]
  },
  {
   "cell_type": "code",
   "execution_count": 61,
   "id": "fc2cff2b",
   "metadata": {},
   "outputs": [
    {
     "name": "stdout",
     "output_type": "stream",
     "text": [
      "110011220022\n"
     ]
    }
   ],
   "source": [
    "a = 110011\n",
    "b = 220022\n",
    "\n",
    "print(a, b, sep='')"
   ]
  },
  {
   "cell_type": "markdown",
   "id": "340eaa83",
   "metadata": {},
   "source": [
    "본 문제는 python 의 빠른 기초 학습을 위해 설계된 문제로서 python 코드 제출을 기준으로 설명되어 있습니다. \n",
    "------\n",
    "\n",
    "알파벳과 숫자로 이루어진 단어 1개가 입력된다.\n",
    "입력받은 단어의 각 문자를 한 줄에 한 문자씩 분리해 출력한다.\n",
    "\n",
    "예시\n",
    "s = input()\n",
    "print(s[0])\n",
    "print(s[1])\n",
    "...\n",
    "\n",
    "참고\n",
    "s[0] 은 첫 번째 문자를 의미한다."
   ]
  },
  {
   "cell_type": "code",
   "execution_count": 65,
   "id": "34b52179",
   "metadata": {},
   "outputs": [
    {
     "name": "stdout",
     "output_type": "stream",
     "text": [
      "Hello\n",
      "H\n",
      "e\n",
      "l\n",
      "l\n",
      "o\n"
     ]
    }
   ],
   "source": [
    "s = input()\n",
    "print(s[0])\n",
    "print(s[1])\n",
    "print(s[2])\n",
    "print(s[3])\n",
    "print(s[4])\n",
    "\n"
   ]
  },
  {
   "cell_type": "markdown",
   "id": "9367a17c",
   "metadata": {},
   "source": [
    "본 문제는 python 의 빠른 기초 학습을 위해 설계된 문제로서 python 코드 제출을 기준으로 설명되어 있습니다. \n",
    "------\n",
    "\n",
    "6자리의 연월일(YYMMDD)을 입력받아 나누어 출력해보자.\n",
    "\n",
    "참고\n",
    "s = input()\n",
    "print(s[0:2])\n",
    "\n",
    "를 실행하면 0번째 문자부터 1번째 문자까지 잘라 출력한다.\n",
    "s[a:b] 라고 하면, s라는 단어에서 a번째 문자부터 b-1번째 문자까지 잘라낸 부분을 의미한다.\n",
    "다른 자르기 방법도 있다."
   ]
  },
  {
   "cell_type": "code",
   "execution_count": 71,
   "id": "acfa3a48",
   "metadata": {
    "scrolled": true
   },
   "outputs": [
    {
     "name": "stdout",
     "output_type": "stream",
     "text": [
      "200304\n",
      "20 03 04\n"
     ]
    }
   ],
   "source": [
    "s = input()\n",
    "print(s[0:2],s[2:4],s[4:6])"
   ]
  },
  {
   "cell_type": "markdown",
   "id": "57392e5b",
   "metadata": {},
   "source": [
    "본 문제는 python 의 빠른 기초 학습을 위해 설계된 문제로서 python 코드 제출을 기준으로 설명되어 있습니다. \n",
    "------\n",
    "\n",
    "시:분:초 형식으로 시간이 입력될 때 분만 출력해보자.\n",
    "\n",
    "어떻게 분만 출력해야 할지 주의 깊게 생각해야한다.\n"
   ]
  },
  {
   "cell_type": "code",
   "execution_count": 74,
   "id": "1f37483b",
   "metadata": {},
   "outputs": [
    {
     "name": "stdout",
     "output_type": "stream",
     "text": [
      "17 23 57:"
     ]
    }
   ],
   "source": [
    "y = 17\n",
    "m = 23\n",
    "d = 57\n",
    "\n",
    "print(y , m , d , end = ':')"
   ]
  }
 ],
 "metadata": {
  "kernelspec": {
   "display_name": "Python 3 (ipykernel)",
   "language": "python",
   "name": "python3"
  },
  "language_info": {
   "codemirror_mode": {
    "name": "ipython",
    "version": 3
   },
   "file_extension": ".py",
   "mimetype": "text/x-python",
   "name": "python",
   "nbconvert_exporter": "python",
   "pygments_lexer": "ipython3",
   "version": "3.9.7"
  }
 },
 "nbformat": 4,
 "nbformat_minor": 5
}
