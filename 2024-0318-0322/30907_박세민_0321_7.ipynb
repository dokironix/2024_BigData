{
 "cells": [
  {
   "cell_type": "markdown",
   "id": "9e8b8636",
   "metadata": {},
   "source": [
    "## 30907_박세민_0321_7"
   ]
  },
  {
   "cell_type": "code",
   "execution_count": 3,
   "id": "151ecf88",
   "metadata": {},
   "outputs": [
    {
     "name": "stdout",
     "output_type": "stream",
     "text": [
      "+와 -를 번갈아 출력합니다.\n",
      "몇 개를 출력할까요?: 12\n",
      "+-+-+-+-+-+-\n"
     ]
    }
   ],
   "source": [
    "print('+와 -를 번갈아 출력합니다.')\n",
    "n =  int(input('몇 개를 출력할까요?: '))\n",
    "\n",
    "for i in range(n):\n",
    "    if i % 2:\n",
    "        print('-', end = '')\n",
    "    else:\n",
    "        print('+', end = '')\n",
    "        \n",
    "print()"
   ]
  },
  {
   "cell_type": "code",
   "execution_count": 5,
   "id": "aa4cf8b3",
   "metadata": {},
   "outputs": [
    {
     "name": "stdout",
     "output_type": "stream",
     "text": [
      "+와 -를 번갈아 출력합니다.\n",
      "몇 개를 출력할까요?: 20\n",
      "+-+-+-+-+-+-+-+-+-+-\n"
     ]
    }
   ],
   "source": [
    "#range(처음값, 미지값)\n",
    "print('+와 -를 번갈아 출력합니다.')\n",
    "n =  int(input('몇 개를 출력할까요?: '))\n",
    "\n",
    "for i in range(1, n+1):\n",
    "    if i % 2:\n",
    "        print('+', end = '')\n",
    "    else:\n",
    "        print('-', end = '')\n",
    "        \n",
    "print()"
   ]
  },
  {
   "cell_type": "code",
   "execution_count": 6,
   "id": "e593c06a",
   "metadata": {},
   "outputs": [
    {
     "name": "stdout",
     "output_type": "stream",
     "text": [
      "+와 -를 번갈아 출력합니다.\n",
      "몇 개를 출력할까요?: 12\n",
      "+-+-+-+-+-+-\n"
     ]
    }
   ],
   "source": [
    "# +와 -를 번갈아 출력하기 2\n",
    "\n",
    "print('+와 -를 번갈아 출력합니다.')\n",
    "n =  int(input('몇 개를 출력할까요?: '))\n",
    "for _ in range(n // 2):\n",
    "    print('+-', end='') # n // 2개의 + -를 출력 \n",
    "    \n",
    "if n % 2:\n",
    "    print('+', end = '') # n이 홀 수 일때만 + 출력\n",
    "    \n",
    "print()"
   ]
  },
  {
   "cell_type": "code",
   "execution_count": 30,
   "id": "61341df4",
   "metadata": {
    "scrolled": true
   },
   "outputs": [
    {
     "name": "stdout",
     "output_type": "stream",
     "text": [
      "*를 출력합니다.\n",
      "몇 개를 출력할까요?: 20\n",
      "몇 개마다 줄바꿈할까요?: 7\n",
      "*******\n",
      "*******\n",
      "******"
     ]
    }
   ],
   "source": [
    "print('*를 출력합니다.')\n",
    "n = int(input('몇 개를 출력할까요?: '))\n",
    "c = int(input('몇 개마다 줄바꿈할까요?: '))\n",
    "\n",
    "for i in range(n):\n",
    "     print('*', end='')\n",
    "     if i % c == c - 1:\n",
    "        print()"
   ]
  },
  {
   "cell_type": "code",
   "execution_count": 32,
   "id": "bce3722f",
   "metadata": {},
   "outputs": [
    {
     "name": "stdout",
     "output_type": "stream",
     "text": [
      "1부터 n까지 정수의 합을 구합니다.\n",
      "n값을 입력하세요.: -6\n",
      "n값을 입력하세요.: 0\n",
      "n값을 입력하세요.: 10\n",
      "1부터 10까지 정수의 합은 55입니다.\n"
     ]
    }
   ],
   "source": [
    "print('1부터 n까지 정수의 합을 구합니다.')\n",
    "\n",
    "while True:\n",
    "    n = int(input('n값을 입력하세요.: '))\n",
    "    if n > 0 :\n",
    "        break\n",
    "        \n",
    "sum = 0\n",
    "i = 1\n",
    "\n",
    "for i in range(1, n+1):\n",
    "    sum += i\n",
    "    i += 1\n",
    "\n",
    "print(f'1부터 {n}까지 정수의 합은 {sum}입니다.')"
   ]
  }
 ],
 "metadata": {
  "kernelspec": {
   "display_name": "Python 3 (ipykernel)",
   "language": "python",
   "name": "python3"
  },
  "language_info": {
   "codemirror_mode": {
    "name": "ipython",
    "version": 3
   },
   "file_extension": ".py",
   "mimetype": "text/x-python",
   "name": "python",
   "nbconvert_exporter": "python",
   "pygments_lexer": "ipython3",
   "version": "3.9.7"
  }
 },
 "nbformat": 4,
 "nbformat_minor": 5
}
