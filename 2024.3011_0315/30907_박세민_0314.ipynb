{
 "cells": [
  {
   "cell_type": "markdown",
   "id": "a6174380",
   "metadata": {},
   "source": [
    "## 30908_evans_0314_6"
   ]
  },
  {
   "cell_type": "markdown",
   "id": "9c516d48",
   "metadata": {},
   "source": [
    "## 3.1 데이터를 저장하는 공간: 변수\n",
    "#### 3.1.1 변수란"
   ]
  },
  {
   "cell_type": "code",
   "execution_count": 1,
   "id": "b168367b",
   "metadata": {},
   "outputs": [],
   "source": [
    "a = 10"
   ]
  },
  {
   "cell_type": "code",
   "execution_count": 2,
   "id": "348fc978",
   "metadata": {},
   "outputs": [],
   "source": [
    "a = 20"
   ]
  },
  {
   "cell_type": "code",
   "execution_count": 3,
   "id": "1abdaec9",
   "metadata": {},
   "outputs": [
    {
     "name": "stdout",
     "output_type": "stream",
     "text": [
      "20\n"
     ]
    }
   ],
   "source": [
    "print(a)"
   ]
  },
  {
   "cell_type": "markdown",
   "id": "9b178621",
   "metadata": {},
   "source": [
    "## 3.1.2 변수에 값을 저장하고 사용하기"
   ]
  },
  {
   "cell_type": "code",
   "execution_count": 4,
   "id": "596adb3b",
   "metadata": {},
   "outputs": [
    {
     "name": "stdout",
     "output_type": "stream",
     "text": [
      "a\n",
      "10\n"
     ]
    }
   ],
   "source": [
    "a = 10\n",
    "print('a')\n",
    "print(a)"
   ]
  },
  {
   "cell_type": "code",
   "execution_count": 5,
   "id": "f7338b07",
   "metadata": {},
   "outputs": [
    {
     "name": "stdout",
     "output_type": "stream",
     "text": [
      "가나다\n"
     ]
    }
   ],
   "source": [
    "print(\"가나다\")"
   ]
  },
  {
   "cell_type": "code",
   "execution_count": 6,
   "id": "2cd05981",
   "metadata": {},
   "outputs": [],
   "source": [
    "b = '성일'\n",
    "c = '정보'"
   ]
  },
  {
   "cell_type": "code",
   "execution_count": 7,
   "id": "81f492fc",
   "metadata": {},
   "outputs": [
    {
     "name": "stdout",
     "output_type": "stream",
     "text": [
      "성일정보\n"
     ]
    }
   ],
   "source": [
    "print(b+c)"
   ]
  },
  {
   "cell_type": "code",
   "execution_count": 8,
   "id": "978dc1a6",
   "metadata": {},
   "outputs": [
    {
     "name": "stdout",
     "output_type": "stream",
     "text": [
      "성일 정보\n"
     ]
    }
   ],
   "source": [
    "print(b,c)"
   ]
  },
  {
   "cell_type": "code",
   "execution_count": 10,
   "id": "04be52f4",
   "metadata": {},
   "outputs": [
    {
     "name": "stdout",
     "output_type": "stream",
     "text": [
      "유리 175.5 21 programming\n"
     ]
    }
   ],
   "source": [
    "name = '유리'\n",
    "height = 175.5\n",
    "age = 21\n",
    "hobby = 'programming'\n",
    "print(name, height, age, hobby)"
   ]
  },
  {
   "cell_type": "code",
   "execution_count": 11,
   "id": "9a069f3b",
   "metadata": {},
   "outputs": [
    {
     "name": "stdout",
     "output_type": "stream",
     "text": [
      "유리 키는 175.5 나이는 21 취미는 programming 입니다!\n"
     ]
    }
   ],
   "source": [
    "name = '유리'\n",
    "height = 175.5\n",
    "age = 21\n",
    "hobby = 'programming'\n",
    "print(name,'키는',height,'나이는', age,'취미는', hobby,'입니다!')"
   ]
  },
  {
   "cell_type": "code",
   "execution_count": 12,
   "id": "53064bff",
   "metadata": {},
   "outputs": [
    {
     "name": "stdout",
     "output_type": "stream",
     "text": [
      "제임스 키는 186 나이는 24 취미는 요리하기 입니다!\n"
     ]
    }
   ],
   "source": [
    "name = '제임스'\n",
    "height = 186\n",
    "age = 24\n",
    "hobby = '요리하기'\n",
    "print(name,'키는',height,'나이는',age,'취미는',hobby,'입니다!')"
   ]
  },
  {
   "cell_type": "code",
   "execution_count": 15,
   "id": "cc6b3747",
   "metadata": {
    "scrolled": true
   },
   "outputs": [
    {
     "name": "stdout",
     "output_type": "stream",
     "text": [
      "유리 키는 175.5 나이는 21 취미는 programming 입니다!\n",
      "유리 키는 175.5, 나이는 21, 취미는 programming입니다.\n",
      "유리 키는 175.5, 나이는 21, 취미는 programming입니다.\n"
     ]
    }
   ],
   "source": [
    "name = '유리'\n",
    "height = 175.5\n",
    "age = 21\n",
    "hobby = 'programming'\n",
    "print(name,'키는',height,'나이는', age,'취미는', hobby,'입니다!')\n",
    "print('{} 키는 {}, 나이는 {}, 취미는 {}입니다.'.format(name,height,age,hobby))\n",
    "print(f'{name} 키는 {height}, 나이는 {age}, 취미는 {hobby}입니다.')"
   ]
  },
  {
   "cell_type": "markdown",
   "id": "f9be68de",
   "metadata": {},
   "source": [
    ">원의 넓이 구해봅시다.\n",
    "\n",
    "공식 : 파이 * 반지름 ** 2\n",
    "p = 3.141592 \n",
    "r = 5"
   ]
  },
  {
   "cell_type": "code",
   "execution_count": 22,
   "id": "73d6a86d",
   "metadata": {},
   "outputs": [
    {
     "name": "stdout",
     "output_type": "stream",
     "text": [
      " 원의 넓이 = 3.141592 * 5 ** 2\n"
     ]
    }
   ],
   "source": [
    "p = 3.141592\n",
    "r = 5\n",
    "result = p * r **2\n",
    "print(f' 원의 넓이 = {p} * {r} ** 2')"
   ]
  }
 ],
 "metadata": {
  "kernelspec": {
   "display_name": "Python 3 (ipykernel)",
   "language": "python",
   "name": "python3"
  },
  "language_info": {
   "codemirror_mode": {
    "name": "ipython",
    "version": 3
   },
   "file_extension": ".py",
   "mimetype": "text/x-python",
   "name": "python",
   "nbconvert_exporter": "python",
   "pygments_lexer": "ipython3",
   "version": "3.9.7"
  }
 },
 "nbformat": 4,
 "nbformat_minor": 5
}
