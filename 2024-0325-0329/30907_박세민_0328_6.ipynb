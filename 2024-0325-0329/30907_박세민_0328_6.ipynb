{
 "cells": [
  {
   "cell_type": "markdown",
   "id": "51f23aea",
   "metadata": {},
   "source": [
    "## 30907_박세민_0328_6"
   ]
  },
  {
   "cell_type": "markdown",
   "id": "e2d0f3ac",
   "metadata": {},
   "source": [
    "본 문제는 python 의 빠른 기초 학습을 위해 설계된 문제로서 python 코드 제출을 기준으로 설명되어 있습니다. \n",
    "------\n",
    "\n",
    "시:분:초 형식으로 시간이 입력될 때 분만 출력해보자.\n",
    "\n",
    "어떻게 분만 출력해야 할지 주의 깊게 생각해야한다.\n"
   ]
  },
  {
   "cell_type": "code",
   "execution_count": 44,
   "id": "6ecf0155",
   "metadata": {},
   "outputs": [
    {
     "name": "stdout",
     "output_type": "stream",
     "text": [
      "17:23:57\n",
      "23\n"
     ]
    }
   ],
   "source": [
    "a = 17\n",
    "b = 23\n",
    "c = 57\n",
    "print(a,b,c, sep=':')\n",
    "print(b)"
   ]
  },
  {
   "cell_type": "markdown",
   "id": "8a405e4f",
   "metadata": {},
   "source": [
    "본 문제는 python 의 빠른 기초 학습을 위해 설계된 문제로서 python 코드 제출을 기준으로 설명되어 있습니다. \n",
    "------\n",
    "\n",
    "알파벳 문자와 숫자로 이루어진 단어 2개를 입력받아\n",
    "순서대로 붙여 출력하는 프로그램을 작성해보자.\n",
    "\n",
    "예시\n",
    "w1, w2 = input().split()\n",
    "s = w1 + w2\n",
    "print(s)\n",
    "\n",
    "참고\n",
    "단어는 문자(character)들로 만든다.\n",
    "문자들로 구성된 문장을 문자열(string)이라고 부른다.\n",
    "문자열에는 공백문자(' ')가 포함될 수 있는데, \n",
    "문자 1개는 길이가 1인 문자열이라고 할 수 있고, 공백문자(' ')가 없는 문자열은 단어(word)라고 할 수 있다.\n",
    "\n",
    "일반적인 문장들은 공백으로 구분된 단어들로 만들어지기 때문에,\n",
    "공백문자로 구분된 문장에서 단어를 잘라내기 위해서는 공백문자(' ')를 기준으로 자르면 된다.\n",
    "키보드로 입력되는 것들은 기본적으로 문자열로 인식되고, 문자열끼리 더하기(+)를 실행하면,\n",
    "두 문자열을 합쳐 연결한(concatenate) 결과를 만들어 낸다."
   ]
  },
  {
   "cell_type": "code",
   "execution_count": 26,
   "id": "3447a770",
   "metadata": {
    "scrolled": true
   },
   "outputs": [
    {
     "name": "stdout",
     "output_type": "stream",
     "text": [
      "Hello world\n",
      "Helloworld\n"
     ]
    }
   ],
   "source": [
    "w1,w2 = input().split()\n",
    "s = w1 + w2\n",
    "print(s)"
   ]
  },
  {
   "cell_type": "markdown",
   "id": "1de2185f",
   "metadata": {},
   "source": [
    "본 문제는 python 의 빠른 기초 학습을 위해 설계된 문제로서 python 코드 제출을 기준으로 설명되어 있습니다. \n",
    "------\n",
    "\n",
    "정수 2개를 입력받아\n",
    "합을 출력하는 프로그램을 작성해보자.\n",
    "\n",
    "예시\n",
    "a, b = input().split()\n",
    "c = int(a) + int(b)\n",
    "print(c)\n",
    "\n",
    "참고\n",
    "입력되는 값은 기본적으로 문자열로 인식된다.\n",
    "\n",
    "문자열 + 문자열은 두 문자열을 합친 문자열을 만든다.\n",
    "숫자로 구성된 문자열이나 실수를 정수(integer) 값으로 바꾸기 위해서는 int( ) 를 사용할 수 있다.\n",
    "수 + 수의 결과는 합(addition)이 계산된다."
   ]
  },
  {
   "cell_type": "code",
   "execution_count": 47,
   "id": "d297237f",
   "metadata": {
    "scrolled": true
   },
   "outputs": [
    {
     "name": "stdout",
     "output_type": "stream",
     "text": [
      "50 50\n",
      "100\n"
     ]
    }
   ],
   "source": [
    "a,b = input().split()\n",
    "c = int(a) + int(b)\n",
    "print(c)"
   ]
  },
  {
   "cell_type": "markdown",
   "id": "627519ab",
   "metadata": {},
   "source": [
    "본 문제는 python 의 빠른 기초 학습을 위해 설계된 문제로서 python 코드 제출을 기준으로 설명되어 있습니다. \n",
    "------\n",
    "\n",
    "실수 2개를 입력받아\n",
    "합을 출력하는 프로그램을 작성해보자.\n",
    "\n",
    "참고\n",
    "입력되는 값은 기본적으로 문자열로 인식된다.\n",
    "\n",
    "숫자로 구성된 문자열이나 정수를 실수(real number) 값으로 바꾸기 위해서는 float( ) 를 사용할 수 있다.\n",
    "소숫점(.)은 그 위치가 정해져있지 않고 이리저리 둥둥 떠다니므로, floating point라고 부른다."
   ]
  },
  {
   "cell_type": "code",
   "execution_count": 49,
   "id": "bd31c27a",
   "metadata": {
    "scrolled": true
   },
   "outputs": [
    {
     "name": "stdout",
     "output_type": "stream",
     "text": [
      "0.1\n",
      "0.9\n",
      "1.0\n"
     ]
    }
   ],
   "source": [
    "a = input()\n",
    "b = input()\n",
    "a = float(a)\n",
    "b = float(b)\n",
    "c = a + b\n",
    "print(c)"
   ]
  },
  {
   "cell_type": "markdown",
   "id": "31a3fd11",
   "metadata": {},
   "source": [
    "본 문제는 python 의 빠른 기초 학습을 위해 설계된 문제로서 python 코드 제출을 기준으로 설명되어 있습니다. \n",
    "------\n",
    "\n",
    "10진수를 입력받아 16진수(hexadecimal)로 출력해보자.\n",
    "\n",
    "예시\n",
    "a = input()\n",
    "n = int(a)            #입력된 a를 10진수 값으로 변환해 변수 n에 저장\n",
    "print('%x'% n)  #n에 저장되어있는 값을 16진수(hexadecimal) 소문자 형태 문자열로 출력\n",
    "\n",
    "참고\n",
    "10진수 형태로 입력받고\n",
    "%x로 출력하면 16진수(hexadecimal) 소문자로 출력된다.\n",
    "(%o로 출력하면 8진수(octal) 문자열로 출력된다.)\n",
    "\n",
    "10진법은 한 자리에 10개(0 1 2 3 4 5 6 7 8 9)의 문자를 사용하고,\n",
    "16진법은 영문 소문자를 사용하는 경우에 한 자리에 16개(0 1 2 3 4 5 6 7 8 9 a b c d e f)의 문자를 사용한다.\n",
    "16진수 a는 10진수의 10, b는 11, c는 12 ... 와 같다."
   ]
  },
  {
   "cell_type": "code",
   "execution_count": 54,
   "id": "9aeb4dcf",
   "metadata": {
    "scrolled": true
   },
   "outputs": [
    {
     "name": "stdout",
     "output_type": "stream",
     "text": [
      "255\n",
      "ff\n"
     ]
    }
   ],
   "source": [
    "a = input()\n",
    "n = int(a)\n",
    "print('%x'%n)"
   ]
  },
  {
   "cell_type": "markdown",
   "id": "8619c28e",
   "metadata": {},
   "source": [
    "본 문제는 python 의 빠른 기초 학습을 위해 설계된 문제로서 python 코드 제출을 기준으로 설명되어 있습니다. \n",
    "------\n",
    "\n",
    "10진수를 입력받아 16진수(hexadecimal)로 출력해보자.\n",
    "\n",
    "예시\n",
    "print('%X' % n)  #n에 저장되어있는 값을 16진수 대문자 형태 문자열로 출력\n",
    "\n",
    "참고\n",
    "10진수 형태로 입력받고\n",
    "%X로 출력하면 16진수(hexadecimal)대문자로 출력된다.\n",
    "\n",
    "16진법은 영문 소문자를 사용하는 경우에 한 자리에 16개(0 1 2 3 4 5 6 7 8 9 A B C D E F)의 문자를 사용한다.\n",
    "16진수 A는 10진수의 10, B는 11, C는 12 ... 와 같다."
   ]
  },
  {
   "cell_type": "code",
   "execution_count": 55,
   "id": "389513e8",
   "metadata": {
    "scrolled": false
   },
   "outputs": [
    {
     "name": "stdout",
     "output_type": "stream",
     "text": [
      "255\n",
      "FF\n"
     ]
    }
   ],
   "source": [
    "a = input()\n",
    "n = int(a)\n",
    "print('%X'%n)"
   ]
  }
 ],
 "metadata": {
  "kernelspec": {
   "display_name": "Python 3 (ipykernel)",
   "language": "python",
   "name": "python3"
  },
  "language_info": {
   "codemirror_mode": {
    "name": "ipython",
    "version": 3
   },
   "file_extension": ".py",
   "mimetype": "text/x-python",
   "name": "python",
   "nbconvert_exporter": "python",
   "pygments_lexer": "ipython3",
   "version": "3.9.7"
  }
 },
 "nbformat": 4,
 "nbformat_minor": 5
}
