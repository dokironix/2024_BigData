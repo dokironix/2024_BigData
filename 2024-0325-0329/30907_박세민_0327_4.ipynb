{
  "nbformat": 4,
  "nbformat_minor": 0,
  "metadata": {
    "colab": {
      "provenance": []
    },
    "kernelspec": {
      "name": "python3",
      "display_name": "Python 3"
    },
    "language_info": {
      "name": "python"
    }
  },
  "cells": [
    {
      "cell_type": "markdown",
      "source": [
        "# 30907_박세민_0327_4"
      ],
      "metadata": {
        "id": "ZyTCJY6f6ter"
      }
    },
    {
      "cell_type": "code",
      "source": [
        "# 학생 5명의 시험 점수를 입력받아 합계와 평균을 출력하기\n",
        "\n",
        "print('학생 그룹 점수의 합계와 평균을 구합니다. ')\n",
        "a = int(input('1번 학생의 점수를 입력하세요.: '))\n",
        "b = int(input('2번 학생의 점수를 입력하세요.: '))\n",
        "c = int(input('3번 학생의 점수를 입력하세요.: '))\n",
        "d = int(input('4번 학생의 점수를 입력하세요.: '))\n",
        "e = int(input('5번 학생의 점수를 입력하세요.: '))\n",
        "\n",
        "total = 0\n",
        "total += a\n",
        "total += b\n",
        "total += c\n",
        "total += d\n",
        "total += e\n",
        "\n",
        "print(f'합계는 {total}점 입니다.')\n",
        "print(f'평균은{total/5}점입니다.')"
      ],
      "metadata": {
        "colab": {
          "base_uri": "https://localhost:8080/"
        },
        "id": "1zxt20_e7Aqj",
        "outputId": "3810de51-300a-41d1-b2c7-26bdc6142cd0"
      },
      "execution_count": 5,
      "outputs": [
        {
          "output_type": "stream",
          "name": "stdout",
          "text": [
            "학생 그룹 점수의 합계와 평균을 구합니다. \n",
            "1번 학생의 점수를 입력하세요.: 32\n",
            "2번 학생의 점수를 입력하세요.: 68\n",
            "3번 학생의 점수를 입력하세요.: 72\n",
            "4번 학생의 점수를 입력하세요.: 54\n",
            "5번 학생의 점수를 입력하세요.: 92\n",
            "합계는 318점 입니다.\n",
            "평균은63.6점입니다.\n"
          ]
        }
      ]
    },
    {
      "cell_type": "markdown",
      "source": [
        "- 배열 : 묶음 단위로 값을 저장하는 자료구조\n",
        "    - 원소 : 배열에 저장된 각 객체\n",
        "    - 각 원소는 0,1,------- 순서대로 인덱스(주소)를 부여받음\n",
        "    - 원소의 자료형은 int형 float형 어떤것도 상관없음\n",
        "    - 서로 다른 자료형을 같이 저장할 수 있음\n",
        "    - 배열 원소 자체를 배열에 저장할 수도 있음"
      ],
      "metadata": {
        "id": "buoUhSyU9gMZ"
      }
    },
    {
      "cell_type": "code",
      "source": [
        "# list 선언\n",
        "list01 = [] # 빈 리스트\n",
        "a = [1,2,3,4,5]\n",
        "b = ['A','B','C',]\n",
        "\n",
        "print(a)\n",
        "print(b)"
      ],
      "metadata": {
        "colab": {
          "base_uri": "https://localhost:8080/"
        },
        "id": "F33_ZJ1J-JO0",
        "outputId": "568d1e1f-f68d-4d01-c7d2-b9bbbb76f16c"
      },
      "execution_count": 6,
      "outputs": [
        {
          "output_type": "stream",
          "name": "stdout",
          "text": [
            "[1, 2, 3, 4, 5]\n",
            "['A', 'B', 'C']\n"
          ]
        }
      ]
    },
    {
      "cell_type": "markdown",
      "source": [
        "- 튜플\n",
        "    - 원소에 순서를 매겨 결합한 것으로 원소를 변경할 수 없는 자료형\n",
        "    - ()만 사용하면 빈 튜플 생성\n"
      ],
      "metadata": {
        "id": "admoM6CN-you"
      }
    },
    {
      "cell_type": "code",
      "source": [
        "tuple01 = ()\n",
        "tuple02 = 1,2,3\n",
        "tuple03 = 'A','B','C'\n",
        "\n",
        "print(tuple01)\n",
        "print(tuple02)\n",
        "print(tuple03)\n"
      ],
      "metadata": {
        "colab": {
          "base_uri": "https://localhost:8080/"
        },
        "id": "qjnsxC8f_I6J",
        "outputId": "cc47b27e-54c3-4fd3-c0e0-8e292096013f"
      },
      "execution_count": 9,
      "outputs": [
        {
          "output_type": "stream",
          "name": "stdout",
          "text": [
            "()\n",
            "(1, 2, 3)\n",
            "('A', 'B', 'C')\n"
          ]
        }
      ]
    },
    {
      "cell_type": "code",
      "source": [
        "a = tuple(range(3,9))\n",
        "print(a)"
      ],
      "metadata": {
        "colab": {
          "base_uri": "https://localhost:8080/",
          "height": 168
        },
        "id": "79OuJzjL_rA0",
        "outputId": "988b4bee-3fe9-44ad-9c74-a13b498a790d"
      },
      "execution_count": 14,
      "outputs": [
        {
          "output_type": "error",
          "ename": "TypeError",
          "evalue": "'tuple' object is not callable",
          "traceback": [
            "\u001b[0;31m---------------------------------------------------------------------------\u001b[0m",
            "\u001b[0;31mTypeError\u001b[0m                                 Traceback (most recent call last)",
            "\u001b[0;32m<ipython-input-14-a66d050ad058>\u001b[0m in \u001b[0;36m<cell line: 1>\u001b[0;34m()\u001b[0m\n\u001b[0;32m----> 1\u001b[0;31m \u001b[0ma\u001b[0m \u001b[0;34m=\u001b[0m \u001b[0mtuple\u001b[0m\u001b[0;34m(\u001b[0m\u001b[0mrange\u001b[0m\u001b[0;34m(\u001b[0m\u001b[0;36m3\u001b[0m\u001b[0;34m,\u001b[0m\u001b[0;36m9\u001b[0m\u001b[0;34m)\u001b[0m\u001b[0;34m)\u001b[0m\u001b[0;34m\u001b[0m\u001b[0;34m\u001b[0m\u001b[0m\n\u001b[0m\u001b[1;32m      2\u001b[0m \u001b[0mprint\u001b[0m\u001b[0;34m(\u001b[0m\u001b[0ma\u001b[0m\u001b[0;34m)\u001b[0m\u001b[0;34m\u001b[0m\u001b[0;34m\u001b[0m\u001b[0m\n",
            "\u001b[0;31mTypeError\u001b[0m: 'tuple' object is not callable"
          ]
        }
      ]
    }
  ]
}